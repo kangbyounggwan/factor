{
 "cells": [
  {
   "cell_type": "code",
   "execution_count": 1,
   "id": "03a5d62d-5bde-4e2c-9b0e-a62c341dc131",
   "metadata": {},
   "outputs": [
    {
     "name": "stdout",
     "output_type": "stream",
     "text": [
      "오류 발생: BaseEventLoop.create_connection() got an unexpected keyword argument 'extra_headers'\n"
     ]
    }
   ],
   "source": [
    "                                                      import asyncio\n",
    "import websockets\n",
    "import json\n",
    "import random\n",
    "\n",
    "async def send_test_data():\n",
    "    \"\"\"\n",
    "    웹소켓 서버에 'x-client-type: edge' 헤더를 포함하여\n",
    "    다양한 유형의 프린터 상태 데이터를 무작위로 전송하는 클라이언트 함수\n",
    "    \"\"\"\n",
    "    uri = \"ws://localhost:8765\"\n",
    "    headers = {\"x-client-type\": \"edge\"}\n",
    "\n",
    "    try:\n",
    "        async with websockets.connect(uri, extra_headers=headers) as websocket:\n",
    "            print(f\"웹소켓 서버에 'edge' 클라이언트로 연결되었습니다: {uri}\")\n",
    "\n",
    "            while True:\n",
    "                # 1. 무작위 PrinterStatus 메시지 생성 및 전송\n",
    "                printer_status_data = {\n",
    "                    \"type\": \"printer_status\",\n",
    "                    \"data\": {\n",
    "                        \"status\": random.choice([\"printing\", \"idle\", \"paused\", \"error\"]),\n",
    "                        \"connected\": True,\n",
    "                        \"printing\": random.choice([True, False]),\n",
    "                        \"error_message\": \"Filament runout\" if random.random() > 0.9 else None\n",
    "                    }\n",
    "                }\n",
    "                await websocket.send(json.dumps(printer_status_data))\n",
    "                print(f\"[printer_status] 전송: {printer_status_data['data']}\")\n",
    "                \n",
    "                await asyncio.sleep(random.uniform(0.5, 1.5)) # 메시지 간 간격\n",
    "\n",
    "                # 2. 무작위 TemperatureData 메시지 생성 및 전송\n",
    "                temperature_data = {\n",
    "                    \"type\": \"temperature_update\",\n",
    "                    \"data\": {\n",
    "                        \"tool\": {\"current\": round(random.uniform(190, 205), 1), \"target\": 200},\n",
    "                        \"bed\": {\"current\": round(random.uniform(55, 65), 1), \"target\": 60}\n",
    "                    }\n",
    "                }\n",
    "                await websocket.send(json.dumps(temperature_data))\n",
    "                print(f\"[temperature_update] 전송: {temperature_data['data']}\")\n",
    "\n",
    "                await asyncio.sleep(random.uniform(0.5, 1.5))\n",
    "\n",
    "                # 3. 무작위 PositionData 메시지 생성 및 전송\n",
    "                position_data = {\n",
    "                    \"type\": \"position_update\",\n",
    "                    \"data\": {\n",
    "                        \"x\": round(random.uniform(0, 250), 2),\n",
    "                        \"y\": round(random.uniform(0, 250), 2),\n",
    "                        \"z\": round(random.uniform(0, 250), 2),\n",
    "                        \"e\": round(random.uniform(0, 500), 2)\n",
    "                    }\n",
    "                }\n",
    "                await websocket.send(json.dumps(position_data))\n",
    "                print(f\"[position_update] 전송: {position_data['data']}\")\n",
    "\n",
    "                await asyncio.sleep(random.uniform(0.5, 1.5))\n",
    "\n",
    "                # 4. 무작위 PrintProgressData 메시지 생성 및 전송\n",
    "                print_progress_data = {\n",
    "                    \"type\": \"print_progress\",\n",
    "                    \"data\": {\n",
    "                        \"completion\": round(random.uniform(0, 100), 1),\n",
    "                        \"file_position\": random.randint(0, 1024),\n",
    "                        \"file_size\": 1024,\n",
    "                        \"print_time\": random.randint(0, 3600),\n",
    "                        \"print_time_left\": random.randint(0, 3600),\n",
    "                        \"filament_used\": round(random.uniform(0, 50), 1)\n",
    "                    }\n",
    "                }\n",
    "                await websocket.send(json.dumps(print_progress_data))\n",
    "                print(f\"[print_progress] 전송: {print_progress_data['data']}\")\n",
    "\n",
    "                print(\"-\" * 50)\n",
    "                await asyncio.sleep(5)  # 다음 전체 메시지 세트 전송까지 5초 대기\n",
    "\n",
    "    except websockets.exceptions.ConnectionClosed as e:\n",
    "        print(f\"연결이 끊겼습니다: {e}\")\n",
    "    except Exception as e:\n",
    "        print(f\"오류 발생: {e}\")\n",
    "\n",
    "if __name__ == \"__main__\":\n",
    "    await send_test_data()"
   ]
  },
  {
   "cell_type": "code",
   "execution_count": 6,
   "id": "9c414d51-0f8c-4452-a7ae-ad06020c0ba3",
   "metadata": {},
   "outputs": [
    {
     "name": "stdout",
     "output_type": "stream",
     "text": [
      "Requirement already satisfied: websockets in c:\\users\\user\\anaconda3\\envs\\factor-client\\lib\\site-packages (15.0.1)\n",
      "Note: you may need to restart the kernel to use updated packages.\n"
     ]
    }
   ],
   "source": [
    "pip install --upgrade websockets"
   ]
  },
  {
   "cell_type": "code",
   "execution_count": null,
   "id": "cb9ca6be-ab82-49be-8441-2816fea0b7f7",
   "metadata": {},
   "outputs": [],
   "source": []
  }
 ],
 "metadata": {
  "kernelspec": {
   "display_name": "factor-client",
   "language": "python",
   "name": "factor-client"
  },
  "language_info": {
   "codemirror_mode": {
    "name": "ipython",
    "version": 3
   },
   "file_extension": ".py",
   "mimetype": "text/x-python",
   "name": "python",
   "nbconvert_exporter": "python",
   "pygments_lexer": "ipython3",
   "version": "3.10.18"
  }
 },
 "nbformat": 4,
 "nbformat_minor": 5
}
